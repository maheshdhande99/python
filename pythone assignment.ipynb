{
 "cells": [
  {
   "cell_type": "code",
   "execution_count": 1,
   "id": "f370e4fe-c580-4960-b1e2-c61a54c20d4f",
   "metadata": {},
   "outputs": [],
   "source": [
    "#Q1.create a veriable containing following type of data:"
   ]
  },
  {
   "cell_type": "code",
   "execution_count": 2,
   "id": "98e6ae65-61ff-4ac2-a614-38186dacc87c",
   "metadata": {},
   "outputs": [],
   "source": [
    "#string\n",
    "s='hello world'"
   ]
  },
  {
   "cell_type": "code",
   "execution_count": 3,
   "id": "bf87197f-c9b0-4242-ab47-09c4f9fb9f49",
   "metadata": {},
   "outputs": [
    {
     "data": {
      "text/plain": [
       "'hello world'"
      ]
     },
     "execution_count": 3,
     "metadata": {},
     "output_type": "execute_result"
    }
   ],
   "source": [
    "s"
   ]
  },
  {
   "cell_type": "code",
   "execution_count": 4,
   "id": "af60185b-08cd-4150-a98d-4dde51b9b31c",
   "metadata": {},
   "outputs": [],
   "source": [
    "#list\n",
    "l=[1,2,'data',True,45.456]"
   ]
  },
  {
   "cell_type": "code",
   "execution_count": 5,
   "id": "d345da60-5fcc-42d8-92fa-2bfd5473e333",
   "metadata": {},
   "outputs": [
    {
     "data": {
      "text/plain": [
       "[1, 2, 'data', True, 45.456]"
      ]
     },
     "execution_count": 5,
     "metadata": {},
     "output_type": "execute_result"
    }
   ],
   "source": [
    "l"
   ]
  },
  {
   "cell_type": "code",
   "execution_count": 6,
   "id": "0c2a2c66-e7a7-482e-81dc-3f08c7b0eafc",
   "metadata": {},
   "outputs": [],
   "source": [
    "#float\n",
    "f=45.456"
   ]
  },
  {
   "cell_type": "code",
   "execution_count": 7,
   "id": "f535e7df-b4ec-4190-8244-89913947a134",
   "metadata": {},
   "outputs": [
    {
     "data": {
      "text/plain": [
       "45.456"
      ]
     },
     "execution_count": 7,
     "metadata": {},
     "output_type": "execute_result"
    }
   ],
   "source": [
    "f"
   ]
  },
  {
   "cell_type": "code",
   "execution_count": 8,
   "id": "37918aae-9830-4055-885f-862597e60b25",
   "metadata": {},
   "outputs": [],
   "source": [
    "#tuple\n",
    "t=(1,2,'data',True,12.123,[1,2,])"
   ]
  },
  {
   "cell_type": "code",
   "execution_count": 9,
   "id": "7b392d30-3372-463d-abd7-64c2cb5df131",
   "metadata": {},
   "outputs": [
    {
     "data": {
      "text/plain": [
       "(1, 2, 'data', True, 12.123, [1, 2])"
      ]
     },
     "execution_count": 9,
     "metadata": {},
     "output_type": "execute_result"
    }
   ],
   "source": [
    "t"
   ]
  },
  {
   "cell_type": "code",
   "execution_count": 10,
   "id": "b729795f-440c-42fb-97a0-1c36bbcac4a7",
   "metadata": {},
   "outputs": [],
   "source": [
    "#Q2given are some following variable containing data:"
   ]
  },
  {
   "cell_type": "code",
   "execution_count": 11,
   "id": "52dbdada-c24b-4cb3-bc18-37d1a9847442",
   "metadata": {},
   "outputs": [],
   "source": [
    "var1=''"
   ]
  },
  {
   "cell_type": "code",
   "execution_count": 12,
   "id": "af7f3642-a222-4f5c-8c27-96122438cf84",
   "metadata": {},
   "outputs": [],
   "source": [
    "#this variable string data type"
   ]
  },
  {
   "cell_type": "code",
   "execution_count": 13,
   "id": "1aaf8e18-23a4-4ed5-910c-4f6572ca87d2",
   "metadata": {},
   "outputs": [],
   "source": [
    "var2='[DS,ML,python]'"
   ]
  },
  {
   "cell_type": "code",
   "execution_count": 14,
   "id": "873e9db6-9561-494e-aa09-989a62ac12c7",
   "metadata": {},
   "outputs": [
    {
     "data": {
      "text/plain": [
       "'[DS,ML,python]'"
      ]
     },
     "execution_count": 14,
     "metadata": {},
     "output_type": "execute_result"
    }
   ],
   "source": [
    "var2"
   ]
  },
  {
   "cell_type": "code",
   "execution_count": 15,
   "id": "8102b040-e56b-4e52-9eaf-1d2e8a76e121",
   "metadata": {},
   "outputs": [],
   "source": [
    "#var2 is a string data type"
   ]
  },
  {
   "cell_type": "code",
   "execution_count": 16,
   "id": "c8b81b86-9344-4146-8292-5cd5838434e9",
   "metadata": {},
   "outputs": [],
   "source": [
    "var3=['DS','ML',\"python\"] "
   ]
  },
  {
   "cell_type": "code",
   "execution_count": 17,
   "id": "982938ae-680b-46c4-8473-64b34beb3d2b",
   "metadata": {},
   "outputs": [],
   "source": [
    "# var3 is a list data type"
   ]
  },
  {
   "cell_type": "code",
   "execution_count": 18,
   "id": "5f1612e9-92ea-49da-9477-0c79402a5004",
   "metadata": {},
   "outputs": [
    {
     "data": {
      "text/plain": [
       "['DS', 'ML', 'python']"
      ]
     },
     "execution_count": 18,
     "metadata": {},
     "output_type": "execute_result"
    }
   ],
   "source": [
    "var3"
   ]
  },
  {
   "cell_type": "code",
   "execution_count": 19,
   "id": "7017fd86-7d43-4243-9651-7620162b2ed7",
   "metadata": {},
   "outputs": [],
   "source": [
    "var4=1."
   ]
  },
  {
   "cell_type": "code",
   "execution_count": 20,
   "id": "c1bc2d07-4114-49c2-abe5-7340a9bf09fa",
   "metadata": {},
   "outputs": [],
   "source": [
    "#var4 is float data type"
   ]
  },
  {
   "cell_type": "code",
   "execution_count": 21,
   "id": "f29b7172-ccb4-4d7e-bc1d-c961ca98f5a2",
   "metadata": {},
   "outputs": [
    {
     "data": {
      "text/plain": [
       "1.0"
      ]
     },
     "execution_count": 21,
     "metadata": {},
     "output_type": "execute_result"
    }
   ],
   "source": [
    "var4"
   ]
  },
  {
   "cell_type": "code",
   "execution_count": 22,
   "id": "7cd751d2-452f-40de-b767-43457a15c6d4",
   "metadata": {},
   "outputs": [],
   "source": [
    "#Q3 explain the use of the following operators using an examlpe:"
   ]
  },
  {
   "cell_type": "code",
   "execution_count": 23,
   "id": "a8645521-1169-4a3f-a537-e1e8c345e908",
   "metadata": {},
   "outputs": [],
   "source": [
    "#/ thise operator use for a  division"
   ]
  },
  {
   "cell_type": "code",
   "execution_count": 24,
   "id": "35ab78bb-d40d-459b-96ce-2d542faef3ba",
   "metadata": {},
   "outputs": [
    {
     "data": {
      "text/plain": [
       "5.0"
      ]
     },
     "execution_count": 24,
     "metadata": {},
     "output_type": "execute_result"
    }
   ],
   "source": [
    "10/2"
   ]
  },
  {
   "cell_type": "code",
   "execution_count": 25,
   "id": "2e5583f9-4b93-48cf-815d-69f0ed923189",
   "metadata": {},
   "outputs": [],
   "source": [
    "#%this operator use for a modulus or remainder"
   ]
  },
  {
   "cell_type": "code",
   "execution_count": 26,
   "id": "492bc58e-2886-44da-8e1d-4cf08eea3b15",
   "metadata": {},
   "outputs": [
    {
     "data": {
      "text/plain": [
       "1"
      ]
     },
     "execution_count": 26,
     "metadata": {},
     "output_type": "execute_result"
    }
   ],
   "source": [
    "10%3"
   ]
  },
  {
   "cell_type": "code",
   "execution_count": 27,
   "id": "6325eadc-753e-4727-9bf2-7b67307caefd",
   "metadata": {},
   "outputs": [],
   "source": [
    "#// the operator use for floor division it return the quotient of the division rounded down to the nearest integer:"
   ]
  },
  {
   "cell_type": "code",
   "execution_count": 28,
   "id": "b11add59-a7f2-485c-890f-051b964e301d",
   "metadata": {},
   "outputs": [
    {
     "data": {
      "text/plain": [
       "3"
      ]
     },
     "execution_count": 28,
     "metadata": {},
     "output_type": "execute_result"
    }
   ],
   "source": [
    "10//3"
   ]
  },
  {
   "cell_type": "code",
   "execution_count": 29,
   "id": "f8db3d0c-0b6d-47a5-b7ae-695b5497de34",
   "metadata": {},
   "outputs": [],
   "source": [
    "#** operator use for exponebtiation it raises the first operand to the power of second operand:"
   ]
  },
  {
   "cell_type": "code",
   "execution_count": 30,
   "id": "bb356802-ad9c-4474-bdc4-7d751681def2",
   "metadata": {},
   "outputs": [
    {
     "data": {
      "text/plain": [
       "8"
      ]
     },
     "execution_count": 30,
     "metadata": {},
     "output_type": "execute_result"
    }
   ],
   "source": [
    "2**3"
   ]
  },
  {
   "cell_type": "code",
   "execution_count": 31,
   "id": "ebb2dd79-216a-48ab-9988-169b45f3f2b5",
   "metadata": {},
   "outputs": [],
   "source": [
    "'''Q4create a list of length 10 of your choice contaaining multiple types of data using for loop print the\n",
    " element and its data type"
   ]
  },
  {
   "cell_type": "code",
   "execution_count": 32,
   "id": "af3f5938-f123-413b-958f-48467ae75571",
   "metadata": {},
   "outputs": [],
   "source": [
    "l=[2,3,\"data\",True,45.456,5,6,\"hello\",4.5,False]"
   ]
  },
  {
   "cell_type": "code",
   "execution_count": 33,
   "id": "492cf1e4-60da-4790-ba67-7af543c723a1",
   "metadata": {},
   "outputs": [
    {
     "name": "stdout",
     "output_type": "stream",
     "text": [
      "2 <class 'int'>\n",
      "3 <class 'int'>\n",
      "data <class 'str'>\n",
      "True <class 'bool'>\n",
      "45.456 <class 'float'>\n",
      "5 <class 'int'>\n",
      "6 <class 'int'>\n",
      "hello <class 'str'>\n",
      "4.5 <class 'float'>\n",
      "False <class 'bool'>\n"
     ]
    }
   ],
   "source": [
    "for i in l:\n",
    "    print(i,type(i)) "
   ]
  },
  {
   "cell_type": "code",
   "execution_count": 34,
   "id": "1633a8cc-8ce9-4834-9b37-101c5fd82718",
   "metadata": {},
   "outputs": [
    {
     "ename": "SyntaxError",
     "evalue": "incomplete input (1552911348.py, line 1)",
     "output_type": "error",
     "traceback": [
      "\u001b[0;36m  Cell \u001b[0;32mIn[34], line 1\u001b[0;36m\u001b[0m\n\u001b[0;31m    '''Q5using a while loop,verify if the number A ia purely divisible bt number B and if so then how many\u001b[0m\n\u001b[0m    ^\u001b[0m\n\u001b[0;31mSyntaxError\u001b[0m\u001b[0;31m:\u001b[0m incomplete input\n"
     ]
    }
   ],
   "source": [
    "'''Q5using a while loop,verify if the number A ia purely divisible bt number B and if so then how many \n",
    "times it can be divisible\n",
    "'''"
   ]
  },
  {
   "cell_type": "code",
   "execution_count": 35,
   "id": "3e3ebf2c-4d5c-4332-ba61-9f6c20d41ba6",
   "metadata": {},
   "outputs": [
    {
     "name": "stdin",
     "output_type": "stream",
     "text": [
      "Enter the value of A: 100\n",
      "Enter the value of B: 5\n"
     ]
    }
   ],
   "source": [
    "A=int(input(\"Enter the value of A:\"))\n",
    "B=int(input(\"Enter the value of B:\"))"
   ]
  },
  {
   "cell_type": "code",
   "execution_count": 37,
   "id": "f133af77-756f-4a80-bde2-869b4350da06",
   "metadata": {},
   "outputs": [
    {
     "name": "stdout",
     "output_type": "stream",
     "text": [
      "A is cimpletely divisible by B\n",
      "it can be divisible  1 times\n",
      "A is cimpletely divisible by B\n",
      "it can be divisible  2 times\n"
     ]
    }
   ],
   "source": [
    "count=0\n",
    "while A%B==0:\n",
    "    A=A/B\n",
    "    count+=1\n",
    "    if count>0:\n",
    "        print(\"A is cimpletely divisible by B\")\n",
    "        print(\"it can be divisible \",count,\"times\")\n",
    "        "
   ]
  },
  {
   "cell_type": "code",
   "execution_count": 2,
   "id": "2ca2b246-19c8-47f1-85c2-bf6fc3550f43",
   "metadata": {},
   "outputs": [],
   "source": [
    "#Q6crfeat a lost containing 25 int type data using for loop and if-else condition print if the element is divisible by 3 or not"
   ]
  },
  {
   "cell_type": "code",
   "execution_count": 3,
   "id": "44691576-796d-4047-bda5-8e1f8e125165",
   "metadata": {},
   "outputs": [],
   "source": [
    "l1=[1,3,5,7,9,11,13,115,17,19,21,23,25,27,31,33,35,37,39,41,43,45,47,49] "
   ]
  },
  {
   "cell_type": "code",
   "execution_count": 4,
   "id": "8cd68aad-caf6-489b-8b2c-b6bd9135ba5a",
   "metadata": {},
   "outputs": [
    {
     "data": {
      "text/plain": [
       "[1,\n",
       " 3,\n",
       " 5,\n",
       " 7,\n",
       " 9,\n",
       " 11,\n",
       " 13,\n",
       " 115,\n",
       " 17,\n",
       " 19,\n",
       " 21,\n",
       " 23,\n",
       " 25,\n",
       " 27,\n",
       " 31,\n",
       " 33,\n",
       " 35,\n",
       " 37,\n",
       " 39,\n",
       " 41,\n",
       " 43,\n",
       " 45,\n",
       " 47,\n",
       " 49]"
      ]
     },
     "execution_count": 4,
     "metadata": {},
     "output_type": "execute_result"
    }
   ],
   "source": [
    "l1"
   ]
  },
  {
   "cell_type": "code",
   "execution_count": 7,
   "id": "a5ba9c37-686b-4c09-89a3-029902a01728",
   "metadata": {},
   "outputs": [
    {
     "name": "stdout",
     "output_type": "stream",
     "text": [
      "1 is not divisible by 3\n",
      "3 is divisible by 3\n",
      "5 is not divisible by 3\n",
      "7 is not divisible by 3\n",
      "9 is divisible by 3\n",
      "11 is not divisible by 3\n",
      "13 is not divisible by 3\n",
      "115 is not divisible by 3\n",
      "17 is not divisible by 3\n",
      "19 is not divisible by 3\n",
      "21 is divisible by 3\n",
      "23 is not divisible by 3\n",
      "25 is not divisible by 3\n",
      "27 is divisible by 3\n",
      "31 is not divisible by 3\n",
      "33 is divisible by 3\n",
      "35 is not divisible by 3\n",
      "37 is not divisible by 3\n",
      "39 is divisible by 3\n",
      "41 is not divisible by 3\n",
      "43 is not divisible by 3\n",
      "45 is divisible by 3\n",
      "47 is not divisible by 3\n",
      "49 is not divisible by 3\n"
     ]
    }
   ],
   "source": [
    "for i in l1:\n",
    "    if i%3==0:\n",
    "        print (i,\"is divisible by 3\")\n",
    "    else:\n",
    "            print(i,\"is not divisible by 3\") "
   ]
  },
  {
   "cell_type": "code",
   "execution_count": 8,
   "id": "e9752e02-2006-4edd-ad29-9b7416ba7f1c",
   "metadata": {},
   "outputs": [],
   "source": [
    "#Q7what do you understand about mutable and immutabledata type:"
   ]
  },
  {
   "cell_type": "code",
   "execution_count": 9,
   "id": "4c001720-e445-4634-a9be-0a50aab88540",
   "metadata": {},
   "outputs": [],
   "source": [
    "#mutable data type is list "
   ]
  },
  {
   "cell_type": "code",
   "execution_count": 10,
   "id": "d0aa5143-458d-49bb-b347-3ffd6ac9cfe0",
   "metadata": {},
   "outputs": [],
   "source": [
    "l2=[4,5,6,7] "
   ]
  },
  {
   "cell_type": "code",
   "execution_count": 11,
   "id": "1a9146b3-a74d-4fc3-bac7-775d8079965c",
   "metadata": {},
   "outputs": [
    {
     "name": "stdout",
     "output_type": "stream",
     "text": [
      "[1, 5, 6, 7]\n"
     ]
    }
   ],
   "source": [
    "l2[0]=1\n",
    "print(l2) "
   ]
  },
  {
   "cell_type": "code",
   "execution_count": null,
   "id": "f04a1758-0181-4ee8-a75f-1736a6ba15a0",
   "metadata": {},
   "outputs": [],
   "source": []
  }
 ],
 "metadata": {
  "kernelspec": {
   "display_name": "Python 3 (ipykernel)",
   "language": "python",
   "name": "python3"
  },
  "language_info": {
   "codemirror_mode": {
    "name": "ipython",
    "version": 3
   },
   "file_extension": ".py",
   "mimetype": "text/x-python",
   "name": "python",
   "nbconvert_exporter": "python",
   "pygments_lexer": "ipython3",
   "version": "3.10.8"
  }
 },
 "nbformat": 4,
 "nbformat_minor": 5
}
