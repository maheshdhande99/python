{
 "cells": [
  {
   "cell_type": "code",
   "execution_count": 1,
   "id": "0a1d433b-d616-4078-aee5-484e866c2cac",
   "metadata": {},
   "outputs": [],
   "source": [
    "#Q1,how do you comment code in python? what are the different types of comments?"
   ]
  },
  {
   "cell_type": "code",
   "execution_count": 2,
   "id": "0cf7e34f-6cf3-4a6b-92a3-a581b281d8a7",
   "metadata": {},
   "outputs": [],
   "source": [
    "# to comment code in python use the '#' symbol.ther are one type of commernt in python."
   ]
  },
  {
   "cell_type": "code",
   "execution_count": 3,
   "id": "9a484ee8-a4b5-42aa-9981-3875a1359705",
   "metadata": {},
   "outputs": [],
   "source": [
    "#Q2.what are variable in python?how do you declare and assign values to variable?"
   ]
  },
  {
   "cell_type": "code",
   "execution_count": 4,
   "id": "9f880577-3b50-47c9-bc2e-fd5aeb501b61",
   "metadata": {},
   "outputs": [],
   "source": [
    "pw=100"
   ]
  },
  {
   "cell_type": "code",
   "execution_count": 5,
   "id": "f25591ee-71ac-4cc4-bd16-368601572880",
   "metadata": {},
   "outputs": [
    {
     "data": {
      "text/plain": [
       "100"
      ]
     },
     "execution_count": 5,
     "metadata": {},
     "output_type": "execute_result"
    }
   ],
   "source": [
    "pw"
   ]
  },
  {
   "cell_type": "code",
   "execution_count": 6,
   "id": "964e8471-234e-4732-a974-b9b0d5f445f4",
   "metadata": {},
   "outputs": [],
   "source": [
    "#variable in python are used to store data.to declare and assigna values to a variable."
   ]
  },
  {
   "cell_type": "code",
   "execution_count": 7,
   "id": "47475d08-8b22-4937-82e1-d532ae237ef7",
   "metadata": {},
   "outputs": [],
   "source": [
    "#Q3.how do you convert one data type to another in python?"
   ]
  },
  {
   "cell_type": "code",
   "execution_count": 8,
   "id": "cf1d8aa3-1843-41cd-98c7-c2a7c2f83ab9",
   "metadata": {},
   "outputs": [],
   "source": [
    "#to convert a data type to another in python use a built-in function like int(),"
   ]
  },
  {
   "cell_type": "code",
   "execution_count": 9,
   "id": "31eb4dad-4809-47fa-8e3d-128ae0041dc8",
   "metadata": {},
   "outputs": [],
   "source": [
    "#convertinga string to integer"
   ]
  },
  {
   "cell_type": "code",
   "execution_count": 10,
   "id": "3878507a-db59-4312-b17b-23d1f8dd0caa",
   "metadata": {},
   "outputs": [],
   "source": [
    "str_num=\"322\""
   ]
  },
  {
   "cell_type": "code",
   "execution_count": 11,
   "id": "44b7a49a-3912-4bf1-8a63-ebded1a0e2a9",
   "metadata": {},
   "outputs": [],
   "source": [
    "integer_num=int(str_num)"
   ]
  },
  {
   "cell_type": "code",
   "execution_count": 12,
   "id": "d5839b68-0759-4ab4-8ff8-e2b5700623a9",
   "metadata": {},
   "outputs": [
    {
     "name": "stdout",
     "output_type": "stream",
     "text": [
      "322\n"
     ]
    }
   ],
   "source": [
    "print(integer_num)"
   ]
  },
  {
   "cell_type": "code",
   "execution_count": 13,
   "id": "f9412df9-75c9-4dab-9154-295f5a3d7f2a",
   "metadata": {},
   "outputs": [],
   "source": [
    "#converting string to float"
   ]
  },
  {
   "cell_type": "code",
   "execution_count": 14,
   "id": "0446442d-4fe8-45f4-b202-31599d121440",
   "metadata": {},
   "outputs": [],
   "source": [
    "college_num=\"3.14\""
   ]
  },
  {
   "cell_type": "code",
   "execution_count": 16,
   "id": "ac5e6d4e-99de-4c60-95dc-4f7b8344daeb",
   "metadata": {},
   "outputs": [],
   "source": [
    "float_num=float(college_num)"
   ]
  },
  {
   "cell_type": "code",
   "execution_count": 17,
   "id": "f8919c5c-f5e9-4cba-bb43-5bb152d09d49",
   "metadata": {},
   "outputs": [
    {
     "name": "stdout",
     "output_type": "stream",
     "text": [
      "3.14\n"
     ]
    }
   ],
   "source": [
    "print(float_num)"
   ]
  },
  {
   "cell_type": "code",
   "execution_count": 18,
   "id": "99dc51f6-cf34-412c-bdc9-f241c43c737f",
   "metadata": {},
   "outputs": [],
   "source": [
    "#converting integer to string"
   ]
  },
  {
   "cell_type": "code",
   "execution_count": 19,
   "id": "cbadf4ea-baac-4624-bd1d-b54baf698584",
   "metadata": {},
   "outputs": [],
   "source": [
    "int_num=45"
   ]
  },
  {
   "cell_type": "code",
   "execution_count": 20,
   "id": "0b8a35fb-72ac-4e36-830f-32db18486643",
   "metadata": {},
   "outputs": [],
   "source": [
    "string_num=str(int_num)"
   ]
  },
  {
   "cell_type": "code",
   "execution_count": 21,
   "id": "f76c24d9-0615-4e51-83fa-9e5aa1945cad",
   "metadata": {},
   "outputs": [
    {
     "name": "stdout",
     "output_type": "stream",
     "text": [
      "45\n"
     ]
    }
   ],
   "source": [
    "print(string_num)"
   ]
  },
  {
   "cell_type": "code",
   "execution_count": 22,
   "id": "c627ce9a-07a3-4108-b868-e7705bc183b1",
   "metadata": {},
   "outputs": [],
   "source": [
    "#Q4.how do you write and execute a python script frome the command line?"
   ]
  },
  {
   "cell_type": "code",
   "execution_count": 23,
   "id": "152558dc-3c7d-43c9-bece-1d37c01b497e",
   "metadata": {},
   "outputs": [],
   "source": [
    "#1save the script as'pythonscript.py."
   ]
  },
  {
   "cell_type": "code",
   "execution_count": 24,
   "id": "f9d5fe8b-df98-499e-83bb-b7086a75e84b",
   "metadata": {},
   "outputs": [],
   "source": [
    "#2open a command line,navigate to the directory where the script is saved."
   ]
  },
  {
   "cell_type": "code",
   "execution_count": 25,
   "id": "4ea60638-3543-4251-b716-c72409cb46be",
   "metadata": {},
   "outputs": [],
   "source": [
    "#3run the script using the command 'pythonscript.py."
   ]
  },
  {
   "cell_type": "code",
   "execution_count": 26,
   "id": "29d014ef-15c3-40ea-b67f-f18969b4a1f7",
   "metadata": {},
   "outputs": [],
   "source": [
    "#4the output will be desplayed in the command line."
   ]
  },
  {
   "cell_type": "code",
   "execution_count": 27,
   "id": "37716ae5-e07b-4e51-8016-73ee8ce4ed3e",
   "metadata": {},
   "outputs": [],
   "source": [
    "#Q5.given the list=[1,2,3,4,5] write the code top slice the list and abtainthe sub_list[2,3]?"
   ]
  },
  {
   "cell_type": "code",
   "execution_count": 28,
   "id": "f21db050-9c99-48a1-a1e6-15a7fd457f5c",
   "metadata": {},
   "outputs": [],
   "source": [
    "my_list=[1,2,3,4,5]"
   ]
  },
  {
   "cell_type": "code",
   "execution_count": 29,
   "id": "7a7c97b9-9bea-4418-ba37-22dd58108c68",
   "metadata": {},
   "outputs": [],
   "source": [
    "sub_list=my_list[1:3]"
   ]
  },
  {
   "cell_type": "code",
   "execution_count": 30,
   "id": "82ff9489-8059-46f8-9821-fb38160fcc98",
   "metadata": {},
   "outputs": [
    {
     "name": "stdout",
     "output_type": "stream",
     "text": [
      "[2, 3]\n"
     ]
    }
   ],
   "source": [
    "print(sub_list)"
   ]
  },
  {
   "cell_type": "code",
   "execution_count": 33,
   "id": "5ca71be2-6c44-4632-8ed1-5dfb9d0f9472",
   "metadata": {},
   "outputs": [],
   "source": [
    "#Q6.what are the complex number in mathematics and how is it represented in python?"
   ]
  },
  {
   "cell_type": "code",
   "execution_count": 1,
   "id": "8b6cf9d8-d554-4f98-8f78-1671471f50a7",
   "metadata": {},
   "outputs": [],
   "source": [
    "# a complex number is a number that cosists of a realpart and an imaginary part in python complex numbers are represented using the \n",
    "#\"j\" symbol for exampl 3+5j represented the complex number"
   ]
  },
  {
   "cell_type": "code",
   "execution_count": 2,
   "id": "5c88c52a-37da-4c35-bcec-f74636ee1a80",
   "metadata": {},
   "outputs": [],
   "source": [
    "p=3+5j"
   ]
  },
  {
   "cell_type": "code",
   "execution_count": 3,
   "id": "c657b550-2ef0-4d95-bec9-d62252290993",
   "metadata": {},
   "outputs": [
    {
     "data": {
      "text/plain": [
       "complex"
      ]
     },
     "execution_count": 3,
     "metadata": {},
     "output_type": "execute_result"
    }
   ],
   "source": [
    "type(p)"
   ]
  },
  {
   "cell_type": "code",
   "execution_count": 6,
   "id": "864f5733-0245-45f7-8b78-df6ced25a747",
   "metadata": {},
   "outputs": [],
   "source": [
    "#Q7 what is the correct way to declare a variable named \"age\" and assign the value 25 to it"
   ]
  },
  {
   "cell_type": "code",
   "execution_count": 7,
   "id": "703ac540-4adf-455e-b60d-c8308d020641",
   "metadata": {},
   "outputs": [],
   "source": [
    "#in python you can declare a variable named \"age\" and assign the value 25 to it"
   ]
  },
  {
   "cell_type": "code",
   "execution_count": 8,
   "id": "7968af1e-8e85-4e53-a0dd-7da1a84975da",
   "metadata": {},
   "outputs": [],
   "source": [
    "age=25"
   ]
  },
  {
   "cell_type": "code",
   "execution_count": 9,
   "id": "87cc1b79-ea43-4480-931a-725558726597",
   "metadata": {},
   "outputs": [
    {
     "data": {
      "text/plain": [
       "25"
      ]
     },
     "execution_count": 9,
     "metadata": {},
     "output_type": "execute_result"
    }
   ],
   "source": [
    "age"
   ]
  },
  {
   "cell_type": "code",
   "execution_count": 10,
   "id": "2f289308-6b18-467a-b823-39e1f8346749",
   "metadata": {},
   "outputs": [],
   "source": [
    "#Q8 declare a variable named price and assign the value 9.99 to it whay the data type does this variable belong to ?"
   ]
  },
  {
   "cell_type": "code",
   "execution_count": 11,
   "id": "03c1cec7-4115-4c1e-863c-ab7bacae237f",
   "metadata": {},
   "outputs": [],
   "source": [
    "price=9.99"
   ]
  },
  {
   "cell_type": "code",
   "execution_count": 12,
   "id": "6be319af-4e87-4050-ad32-e72c1b03653d",
   "metadata": {},
   "outputs": [],
   "source": [
    "#the datatype of this variable is float which represented decimal numbers."
   ]
  },
  {
   "cell_type": "code",
   "execution_count": 13,
   "id": "032f815a-2d25-411d-80f2-f305452b8876",
   "metadata": {},
   "outputs": [
    {
     "data": {
      "text/plain": [
       "float"
      ]
     },
     "execution_count": 13,
     "metadata": {},
     "output_type": "execute_result"
    }
   ],
   "source": [
    "type(price)"
   ]
  },
  {
   "cell_type": "code",
   "execution_count": 14,
   "id": "3f34902e-ae51-462e-9799-695168f34860",
   "metadata": {},
   "outputs": [],
   "source": [
    "#Q9creta a variable names \"name\"and assign yuor full name to it a string how would you print the value of this variable?"
   ]
  },
  {
   "cell_type": "code",
   "execution_count": 15,
   "id": "61284eb3-4be9-485f-8015-f801987ad7ae",
   "metadata": {},
   "outputs": [],
   "source": [
    "name=\"krishana vasudev\""
   ]
  },
  {
   "cell_type": "code",
   "execution_count": 16,
   "id": "67dfa4ec-566c-4dcb-b84d-16b82e72bd6c",
   "metadata": {},
   "outputs": [
    {
     "name": "stdout",
     "output_type": "stream",
     "text": [
      "krishana vasudev\n"
     ]
    }
   ],
   "source": [
    "#to print the value of this variable you can use the print() function \n",
    "print(name)"
   ]
  },
  {
   "cell_type": "code",
   "execution_count": 17,
   "id": "791795b3-d50f-465d-bbff-0f106ee30d5e",
   "metadata": {},
   "outputs": [],
   "source": [
    "#Q10given the string \"hello world\"extract the substing \"world\"?"
   ]
  },
  {
   "cell_type": "code",
   "execution_count": 22,
   "id": "e51d40d4-7a7b-4c18-b8a5-466360063e8e",
   "metadata": {},
   "outputs": [
    {
     "name": "stdout",
     "output_type": "stream",
     "text": [
      "world\n"
     ]
    }
   ],
   "source": [
    "string=\"hello world\"\n",
    "substring=string[6:11]\n",
    "print(substring)"
   ]
  },
  {
   "cell_type": "code",
   "execution_count": 23,
   "id": "90e24889-7c0f-46a7-8659-34f3cde6c3e6",
   "metadata": {},
   "outputs": [],
   "source": [
    "#Q11create a variable named\"is_student\"and assign boolean valueindicating whether you are currently student or not?"
   ]
  },
  {
   "cell_type": "code",
   "execution_count": 24,
   "id": "0111558a-d79d-4082-8011-fcfa2690999a",
   "metadata": {},
   "outputs": [],
   "source": [
    "is_student=True"
   ]
  },
  {
   "cell_type": "code",
   "execution_count": 25,
   "id": "86c9d5bc-bcaf-4ca4-a42f-47106cbd5eef",
   "metadata": {},
   "outputs": [
    {
     "data": {
      "text/plain": [
       "True"
      ]
     },
     "execution_count": 25,
     "metadata": {},
     "output_type": "execute_result"
    }
   ],
   "source": [
    "is_student"
   ]
  },
  {
   "cell_type": "code",
   "execution_count": null,
   "id": "cc1d4bb3-7c67-48b8-a889-5b98fa7ebd81",
   "metadata": {},
   "outputs": [],
   "source": []
  }
 ],
 "metadata": {
  "kernelspec": {
   "display_name": "Python 3 (ipykernel)",
   "language": "python",
   "name": "python3"
  },
  "language_info": {
   "codemirror_mode": {
    "name": "ipython",
    "version": 3
   },
   "file_extension": ".py",
   "mimetype": "text/x-python",
   "name": "python",
   "nbconvert_exporter": "python",
   "pygments_lexer": "ipython3",
   "version": "3.10.8"
  }
 },
 "nbformat": 4,
 "nbformat_minor": 5
}
